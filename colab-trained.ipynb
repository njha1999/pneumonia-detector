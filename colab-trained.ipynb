{
  "nbformat": 4,
  "nbformat_minor": 0,
  "metadata": {
    "colab": {
      "name": "Copy of Untitled0.ipynb",
      "provenance": [],
      "collapsed_sections": []
    },
    "kernelspec": {
      "name": "python3",
      "display_name": "Python 3"
    },
    "accelerator": "GPU"
  },
  "cells": [
    {
      "cell_type": "code",
      "metadata": {
        "id": "NSEdXBHwkHfX",
        "colab_type": "code",
        "colab": {
          "base_uri": "https://localhost:8080/",
          "height": 122
        },
        "outputId": "a42d588d-b028-4611-9c46-58337519cdd1"
      },
      "source": [
        "from google.colab import drive\n",
        "drive.mount('/content/drive')"
      ],
      "execution_count": null,
      "outputs": [
        {
          "output_type": "stream",
          "text": [
            "Go to this URL in a browser: https://accounts.google.com/o/oauth2/auth?client_id=947318989803-6bn6qk8qdgf4n4g3pfee6491hc0brc4i.apps.googleusercontent.com&redirect_uri=urn%3aietf%3awg%3aoauth%3a2.0%3aoob&response_type=code&scope=email%20https%3a%2f%2fwww.googleapis.com%2fauth%2fdocs.test%20https%3a%2f%2fwww.googleapis.com%2fauth%2fdrive%20https%3a%2f%2fwww.googleapis.com%2fauth%2fdrive.photos.readonly%20https%3a%2f%2fwww.googleapis.com%2fauth%2fpeopleapi.readonly\n",
            "\n",
            "Enter your authorization code:\n",
            "··········\n",
            "Mounted at /content/drive\n"
          ],
          "name": "stdout"
        }
      ]
    },
    {
      "cell_type": "code",
      "metadata": {
        "id": "d3ApnpxKkWIJ",
        "colab_type": "code",
        "colab": {
          "base_uri": "https://localhost:8080/",
          "height": 34
        },
        "outputId": "e0a1bff7-c52b-4128-bb65-756094c00b73"
      },
      "source": [
        "#-------Import Dependencies-------#\n",
        "import pandas as pd\n",
        "import os,shutil,math\n",
        "import numpy as np\n",
        "import matplotlib.pyplot as plt\n",
        "import cv2\n",
        "\n",
        "from sklearn.utils import shuffle\n",
        "from sklearn.metrics import classification_report\n",
        "from sklearn.model_selection import train_test_split\n",
        "from sklearn.metrics import confusion_matrix,roc_curve,auc\n",
        "\n",
        "from PIL import Image\n",
        "from PIL import ImageDraw\n",
        "from glob import glob\n",
        "from tqdm import tqdm\n",
        "from skimage.io import imread\n",
        "from IPython.display import SVG\n",
        "\n",
        "from keras.utils.vis_utils import model_to_dot\n",
        "from tensorflow.keras.applications import VGG16\n",
        "from keras.applications.vgg19 import VGG19,preprocess_input\n",
        "from keras.applications.xception import Xception\n",
        "from keras.applications.nasnet import NASNetMobile\n",
        "from keras.models import Sequential,Input,Model\n",
        "from keras.layers import Dense,Flatten,Dropout,Concatenate,GlobalAveragePooling2D\n",
        "from keras.preprocessing.image import ImageDataGenerator\n",
        "from keras.optimizers import Adam,SGD\n",
        "from keras.utils.vis_utils import plot_model\n",
        "from keras.callbacks import ModelCheckpoint,EarlyStopping,TensorBoard,CSVLogger,ReduceLROnPlateau,LearningRateScheduler"
      ],
      "execution_count": null,
      "outputs": [
        {
          "output_type": "stream",
          "text": [
            "Using TensorFlow backend.\n"
          ],
          "name": "stderr"
        }
      ]
    },
    {
      "cell_type": "code",
      "metadata": {
        "id": "5Mt10Y1UgO_R",
        "colab_type": "code",
        "colab": {}
      },
      "source": [
        "input_dir='../Downloads/562468_1022626_compressed_Coronahack-Chest-XRay-Dataset/Coronahack-Chest-XRay-Dataset/'\n",
        "SAMPLE_COUNT = 1000\n",
        "TESTING_BATCH_SIZE = 500\n",
        "labels=pd.read_csv( input_dir +'datasets_562468_1022626_Chest_xray_Corona_Metadata.csv')"
      ],
      "execution_count": null,
      "outputs": []
    },
    {
      "cell_type": "code",
      "metadata": {
        "id": "c0TGLxYhgUVh",
        "colab_type": "code",
        "colab": {}
      },
      "source": [
        "training_dir = input_dir + 'train/'\n",
        "df = pd.DataFrame({'path': glob(os.path.join(training_dir,'*.jpeg'))})\n",
        "df['id']=labels['X_ray_image_name']\n",
        "df['label']=labels['Label']"
      ],
      "execution_count": null,
      "outputs": []
    },
    {
      "cell_type": "code",
      "metadata": {
        "id": "D82sDryCgsXy",
        "colab_type": "code",
        "colab": {}
      },
      "source": [
        "x= df[df.label=='Normal']\n",
        "y= df[df.label=='Pnemonia']\n",
        "df = pd.concat([x,y]).reset_index()"
      ],
      "execution_count": null,
      "outputs": []
    },
    {
      "cell_type": "code",
      "metadata": {
        "id": "VYvt87jMlRgC",
        "colab_type": "code",
        "colab": {}
      },
      "source": [
        "train_path = '/content/drive/My Drive/covid'\n",
        "val_path = '/content/drive/My Drive/19'\n",
        "\n",
        "for directory in [train_path,val_path]:\n",
        "    for sub_directory in ['Normal','Pnemonia']:\n",
        "        path = os.path.join(directory,sub_directory)\n",
        "        os.makedirs(path,exist_ok=True)\n",
        "        \n",
        "train,val = train_test_split(df,train_size=0.8,stratify=df['label'])\n",
        "df.set_index('id',inplace=True)\n",
        "\n",
        "for images_paths in [(train,train_path),(val,val_path)]:\n",
        "    images = images_paths[0]\n",
        "    path = images_paths[1]\n",
        "    for image in images['id'].values:\n",
        "        file_name = image + ''\n",
        "        label = str(df.loc[image,'label'])\n",
        "        destination = os.path.join(path,label,file_name)\n",
        "        if not os.path.exists(destination):\n",
        "            source = os.path.join(input_dir + 'train',file_name)\n",
        "            img=Image.open(source)\n",
        "            new_image=img.resize((224,224))\n",
        "            new_image.save(file_name)\n",
        "            shutil.move(file_name,destination)"
      ],
      "execution_count": null,
      "outputs": []
    },
    {
      "cell_type": "code",
      "metadata": {
        "id": "zKbbrHtwlnf3",
        "colab_type": "code",
        "colab": {
          "base_uri": "https://localhost:8080/",
          "height": 68
        },
        "outputId": "4c63ab63-2639-4275-d110-118d14da2efb"
      },
      "source": [
        "#------Generators------------#\n",
        "train_augs = ImageDataGenerator(\n",
        "    rescale=1./255,\n",
        "    horizontal_flip=True,\n",
        "    vertical_flip=True,\n",
        "    rotation_range=90,\n",
        "    zoom_range=0.2, \n",
        "    width_shift_range=0.1,\n",
        "    height_shift_range=0.1,\n",
        "    shear_range=0.05,\n",
        "    channel_shift_range=0.1\n",
        ")\n",
        "\n",
        "\n",
        "val_augs = ImageDataGenerator(rescale=1./255)\n",
        "\n",
        "train_gen = train_augs.flow_from_directory(\n",
        "    train_path,\n",
        "    target_size=(224,224),\n",
        "    batch_size=10,\n",
        "    class_mode='binary')\n",
        "\n",
        "val_gen = val_augs.flow_from_directory(\n",
        "    val_path,\n",
        "    target_size=(224,224),\n",
        "    batch_size=10,\n",
        "    class_mode='binary')\n",
        "print(train_gen.class_indices)"
      ],
      "execution_count": null,
      "outputs": [
        {
          "output_type": "stream",
          "text": [
            "Found 4211 images belonging to 2 classes.\n",
            "Found 1053 images belonging to 2 classes.\n",
            "{'Normal': 0, 'Pnemonia': 1}\n"
          ],
          "name": "stdout"
        }
      ]
    },
    {
      "cell_type": "code",
      "metadata": {
        "id": "VSsDFXBDOABI",
        "colab_type": "code",
        "colab": {
          "base_uri": "https://localhost:8080/",
          "height": 731
        },
        "outputId": "7106d774-78b2-4f3b-ab3d-0138d50aaaed"
      },
      "source": [
        "base_model = VGG19(include_top=False,\n",
        "                  input_shape = (224,224,3),\n",
        "                  weights = 'imagenet')\n",
        "\n",
        "for layer in base_model.layers[:-15]:\n",
        "    layer.trainable = False\n",
        "    \n",
        "for layer in base_model.layers:\n",
        "    print(layer,layer.trainable)\n",
        "\n",
        "model = Sequential()\n",
        "model.add(base_model)\n",
        "model.add(Flatten())\n",
        "model.add(Dense(1024,activation='relu'))\n",
        "model.add(Dropout(0.5))\n",
        "model.add(Dense(1,activation='sigmoid'))\n",
        "model.summary()"
      ],
      "execution_count": null,
      "outputs": [
        {
          "output_type": "stream",
          "text": [
            "Downloading data from https://github.com/fchollet/deep-learning-models/releases/download/v0.1/vgg19_weights_tf_dim_ordering_tf_kernels_notop.h5\n",
            "80142336/80134624 [==============================] - 3s 0us/step\n",
            "<keras.engine.input_layer.InputLayer object at 0x7fa3a2495160> False\n",
            "<keras.layers.convolutional.Conv2D object at 0x7fa3a2495630> False\n",
            "<keras.layers.convolutional.Conv2D object at 0x7fa3a2495828> False\n",
            "<keras.layers.pooling.MaxPooling2D object at 0x7fa3a2495c18> False\n",
            "<keras.layers.convolutional.Conv2D object at 0x7fa3a2495ba8> False\n",
            "<keras.layers.convolutional.Conv2D object at 0x7fa3a2441be0> False\n",
            "<keras.layers.pooling.MaxPooling2D object at 0x7fa3a244c780> False\n",
            "<keras.layers.convolutional.Conv2D object at 0x7fa3a244c5c0> True\n",
            "<keras.layers.convolutional.Conv2D object at 0x7fa3a24502e8> True\n",
            "<keras.layers.convolutional.Conv2D object at 0x7fa3a2450e48> True\n",
            "<keras.layers.convolutional.Conv2D object at 0x7fa3a24598d0> True\n",
            "<keras.layers.pooling.MaxPooling2D object at 0x7fa3a245e358> True\n",
            "<keras.layers.convolutional.Conv2D object at 0x7fa3a245e198> True\n",
            "<keras.layers.convolutional.Conv2D object at 0x7fa3a245ee80> True\n",
            "<keras.layers.convolutional.Conv2D object at 0x7fa3a2465a20> True\n",
            "<keras.layers.convolutional.Conv2D object at 0x7fa3a246c4a8> True\n",
            "<keras.layers.pooling.MaxPooling2D object at 0x7fa3a246cef0> True\n",
            "<keras.layers.convolutional.Conv2D object at 0x7fa3a246cd30> True\n",
            "<keras.layers.convolutional.Conv2D object at 0x7fa3a21a5f98> True\n",
            "<keras.layers.convolutional.Conv2D object at 0x7fa3a21ae5f8> True\n",
            "<keras.layers.convolutional.Conv2D object at 0x7fa3a21aee10> True\n",
            "<keras.layers.pooling.MaxPooling2D object at 0x7fa3a21b5ac8> True\n",
            "Model: \"sequential_1\"\n",
            "_________________________________________________________________\n",
            "Layer (type)                 Output Shape              Param #   \n",
            "=================================================================\n",
            "vgg19 (Model)                (None, 7, 7, 512)         20024384  \n",
            "_________________________________________________________________\n",
            "flatten_1 (Flatten)          (None, 25088)             0         \n",
            "_________________________________________________________________\n",
            "dense_1 (Dense)              (None, 1024)              25691136  \n",
            "_________________________________________________________________\n",
            "dropout_1 (Dropout)          (None, 1024)              0         \n",
            "_________________________________________________________________\n",
            "dense_2 (Dense)              (None, 1)                 1025      \n",
            "=================================================================\n",
            "Total params: 45,716,545\n",
            "Trainable params: 45,456,385\n",
            "Non-trainable params: 260,160\n",
            "_________________________________________________________________\n"
          ],
          "name": "stdout"
        }
      ]
    },
    {
      "cell_type": "code",
      "metadata": {
        "id": "--gub7wlOIQN",
        "colab_type": "code",
        "colab": {
          "base_uri": "https://localhost:8080/",
          "height": 105
        },
        "outputId": "b095a947-3ff2-428f-c480-4bcf42fedc3b"
      },
      "source": [
        "#-------Callbacks-------------#\n",
        "checkpoint = ModelCheckpoint(\n",
        "    './base.model',\n",
        "    monitor='val_loss',\n",
        "    verbose=1,\n",
        "    save_best_only=True,\n",
        "    mode='min',\n",
        "    save_weights_only=False,\n",
        "    period=1\n",
        ")\n",
        "earlystop = EarlyStopping(\n",
        "    monitor='val_loss',\n",
        "    min_delta=0.001,\n",
        "    patience=10,\n",
        "    verbose=1,\n",
        "    mode='auto'\n",
        ")\n",
        "tensorboard = TensorBoard(\n",
        "    log_dir = './logs',\n",
        "    histogram_freq=0,\n",
        "    batch_size=16,\n",
        "    write_graph=True,\n",
        "    write_grads=True,\n",
        "    write_images=False,\n",
        ")\n",
        "\n",
        "csvlogger = CSVLogger(\n",
        "    filename= \"training_csv.log\",\n",
        "    separator = \",\",\n",
        "    append = False\n",
        ")\n",
        "\n",
        "#lrsched = LearningRateScheduler(step_decay,verbose=1)\n",
        "\n",
        "reduce = ReduceLROnPlateau(\n",
        "    monitor='val_loss',\n",
        "    factor=0.3,\n",
        "    patience=2,\n",
        "    verbose=1, \n",
        "    mode='auto',\n",
        "    cooldown=1 \n",
        ")\n",
        "\n",
        "callbacks = [checkpoint,tensorboard,csvlogger,reduce]"
      ],
      "execution_count": null,
      "outputs": [
        {
          "output_type": "stream",
          "text": [
            "/usr/local/lib/python3.6/dist-packages/keras/callbacks/tensorboard_v2.py:92: UserWarning: The TensorBoard callback `batch_size` argument (for histogram computation) is deprecated with TensorFlow 2.0. It will be ignored.\n",
            "  warnings.warn('The TensorBoard callback `batch_size` argument '\n",
            "/usr/local/lib/python3.6/dist-packages/keras/callbacks/tensorboard_v2.py:97: UserWarning: The TensorBoard callback does not support gradients display when using TensorFlow 2.0. The `write_grads` argument is ignored.\n",
            "  warnings.warn('The TensorBoard callback does not support '\n"
          ],
          "name": "stderr"
        }
      ]
    },
    {
      "cell_type": "code",
      "metadata": {
        "id": "PLweRfMcOWFz",
        "colab_type": "code",
        "colab": {
          "base_uri": "https://localhost:8080/",
          "height": 1000
        },
        "outputId": "bce515ff-21e9-4dd4-cd8d-d2dbc830a489"
      },
      "source": [
        "# Training the model\n",
        "opt = SGD(lr=1e-4,momentum=0.99)\n",
        "opt1 = Adam(lr=2e-4)\n",
        "\n",
        "model.compile(\n",
        "    loss='binary_crossentropy',\n",
        "    optimizer=opt,\n",
        "    metrics=['accuracy']\n",
        ")\n",
        "    \n",
        "history = model.fit_generator(\n",
        "    train_gen, \n",
        "    steps_per_epoch  = 500, \n",
        "    validation_data  = val_gen,\n",
        "    validation_steps = 500,\n",
        "    epochs = 30, \n",
        "    verbose = 1,\n",
        "    callbacks=callbacks\n",
        ")"
      ],
      "execution_count": null,
      "outputs": [
        {
          "output_type": "stream",
          "text": [
            "Epoch 1/30\n",
            "500/500 [==============================] - 3473s 7s/step - loss: 0.3378 - accuracy: 0.8503 - val_loss: 0.1036 - val_accuracy: 0.9067\n",
            "\n",
            "Epoch 00001: val_loss improved from inf to 0.10359, saving model to ./base.model\n",
            "Epoch 2/30\n",
            "500/500 [==============================] - 310s 619ms/step - loss: 0.2344 - accuracy: 0.9048 - val_loss: 0.2763 - val_accuracy: 0.9074\n",
            "\n",
            "Epoch 00002: val_loss did not improve from 0.10359\n",
            "Epoch 3/30\n",
            "500/500 [==============================] - 309s 619ms/step - loss: 0.1724 - accuracy: 0.9349 - val_loss: 0.0986 - val_accuracy: 0.9210\n",
            "\n",
            "Epoch 00003: val_loss improved from 0.10359 to 0.09855, saving model to ./base.model\n",
            "Epoch 4/30\n",
            "500/500 [==============================] - 309s 618ms/step - loss: 0.1917 - accuracy: 0.9261 - val_loss: 0.0209 - val_accuracy: 0.9316\n",
            "\n",
            "Epoch 00004: val_loss improved from 0.09855 to 0.02086, saving model to ./base.model\n",
            "Epoch 5/30\n",
            "500/500 [==============================] - 309s 619ms/step - loss: 0.1673 - accuracy: 0.9375 - val_loss: 0.0048 - val_accuracy: 0.9289\n",
            "\n",
            "Epoch 00005: val_loss improved from 0.02086 to 0.00485, saving model to ./base.model\n",
            "Epoch 6/30\n",
            "500/500 [==============================] - 309s 619ms/step - loss: 0.1515 - accuracy: 0.9401 - val_loss: 0.2895 - val_accuracy: 0.9215\n",
            "\n",
            "Epoch 00006: val_loss did not improve from 0.00485\n",
            "Epoch 7/30\n",
            "500/500 [==============================] - 309s 618ms/step - loss: 0.1584 - accuracy: 0.9424 - val_loss: 0.1435 - val_accuracy: 0.9225\n",
            "\n",
            "Epoch 00007: val_loss did not improve from 0.00485\n",
            "\n",
            "Epoch 00007: ReduceLROnPlateau reducing learning rate to 2.9999999242136255e-05.\n",
            "Epoch 8/30\n",
            "500/500 [==============================] - 310s 619ms/step - loss: 0.1849 - accuracy: 0.9293 - val_loss: 0.0187 - val_accuracy: 0.9588\n",
            "\n",
            "Epoch 00008: val_loss did not improve from 0.00485\n",
            "Epoch 9/30\n",
            "500/500 [==============================] - 310s 620ms/step - loss: 0.1148 - accuracy: 0.9580 - val_loss: 0.0277 - val_accuracy: 0.9406\n",
            "\n",
            "Epoch 00009: val_loss did not improve from 0.00485\n",
            "\n",
            "Epoch 00009: ReduceLROnPlateau reducing learning rate to 8.999999772640877e-06.\n",
            "Epoch 10/30\n",
            "500/500 [==============================] - 309s 619ms/step - loss: 0.1003 - accuracy: 0.9633 - val_loss: 0.0022 - val_accuracy: 0.9227\n",
            "\n",
            "Epoch 00010: val_loss improved from 0.00485 to 0.00222, saving model to ./base.model\n",
            "Epoch 11/30\n",
            "500/500 [==============================] - 310s 620ms/step - loss: 0.0863 - accuracy: 0.9699 - val_loss: 0.0386 - val_accuracy: 0.9346\n",
            "\n",
            "Epoch 00011: val_loss did not improve from 0.00222\n",
            "Epoch 12/30\n",
            "500/500 [==============================] - 310s 619ms/step - loss: 0.0814 - accuracy: 0.9709 - val_loss: 0.4696 - val_accuracy: 0.9321\n",
            "\n",
            "Epoch 00012: val_loss did not improve from 0.00222\n",
            "\n",
            "Epoch 00012: ReduceLROnPlateau reducing learning rate to 2.6999998226528985e-06.\n",
            "Epoch 13/30\n",
            "500/500 [==============================] - 310s 619ms/step - loss: 0.0845 - accuracy: 0.9705 - val_loss: 0.6394 - val_accuracy: 0.9235\n",
            "\n",
            "Epoch 00013: val_loss did not improve from 0.00222\n",
            "Epoch 14/30\n",
            "500/500 [==============================] - 310s 619ms/step - loss: 0.0803 - accuracy: 0.9721 - val_loss: 0.3339 - val_accuracy: 0.9235\n",
            "\n",
            "Epoch 00014: val_loss did not improve from 0.00222\n",
            "\n",
            "Epoch 00014: ReduceLROnPlateau reducing learning rate to 8.099999604382901e-07.\n",
            "Epoch 15/30\n",
            "500/500 [==============================] - 309s 619ms/step - loss: 0.0853 - accuracy: 0.9721 - val_loss: 0.1358 - val_accuracy: 0.9290\n",
            "\n",
            "Epoch 00015: val_loss did not improve from 0.00222\n",
            "Epoch 16/30\n",
            "500/500 [==============================] - 310s 619ms/step - loss: 0.0724 - accuracy: 0.9746 - val_loss: 0.7024 - val_accuracy: 0.9345\n",
            "\n",
            "Epoch 00016: val_loss did not improve from 0.00222\n",
            "\n",
            "Epoch 00016: ReduceLROnPlateau reducing learning rate to 2.4299998813148704e-07.\n",
            "Epoch 17/30\n",
            "500/500 [==============================] - 310s 619ms/step - loss: 0.0781 - accuracy: 0.9736 - val_loss: 0.5795 - val_accuracy: 0.9315\n",
            "\n",
            "Epoch 00017: val_loss did not improve from 0.00222\n",
            "Epoch 18/30\n",
            "500/500 [==============================] - 310s 619ms/step - loss: 0.0769 - accuracy: 0.9730 - val_loss: 0.0057 - val_accuracy: 0.9385\n",
            "\n",
            "Epoch 00018: val_loss did not improve from 0.00222\n",
            "\n",
            "Epoch 00018: ReduceLROnPlateau reducing learning rate to 7.289999643944612e-08.\n",
            "Epoch 19/30\n",
            "500/500 [==============================] - 309s 618ms/step - loss: 0.0789 - accuracy: 0.9701 - val_loss: 0.0760 - val_accuracy: 0.9341\n",
            "\n",
            "Epoch 00019: val_loss did not improve from 0.00222\n",
            "Epoch 20/30\n",
            "500/500 [==============================] - 309s 617ms/step - loss: 0.0731 - accuracy: 0.9732 - val_loss: 0.2508 - val_accuracy: 0.9339\n",
            "\n",
            "Epoch 00020: val_loss did not improve from 0.00222\n",
            "\n",
            "Epoch 00020: ReduceLROnPlateau reducing learning rate to 2.1869998079182552e-08.\n",
            "Epoch 21/30\n",
            "500/500 [==============================] - 309s 618ms/step - loss: 0.0786 - accuracy: 0.9705 - val_loss: 0.0203 - val_accuracy: 0.9355\n",
            "\n",
            "Epoch 00021: val_loss did not improve from 0.00222\n",
            "Epoch 22/30\n",
            "500/500 [==============================] - 310s 619ms/step - loss: 0.0770 - accuracy: 0.9738 - val_loss: 0.2568 - val_accuracy: 0.9336\n",
            "\n",
            "Epoch 00022: val_loss did not improve from 0.00222\n",
            "\n",
            "Epoch 00022: ReduceLROnPlateau reducing learning rate to 6.560999210591944e-09.\n",
            "Epoch 23/30\n",
            "500/500 [==============================] - 309s 619ms/step - loss: 0.0770 - accuracy: 0.9730 - val_loss: 0.0118 - val_accuracy: 0.9347\n",
            "\n",
            "Epoch 00023: val_loss did not improve from 0.00222\n",
            "Epoch 24/30\n",
            "500/500 [==============================] - 309s 618ms/step - loss: 0.0792 - accuracy: 0.9699 - val_loss: 0.0031 - val_accuracy: 0.9347\n",
            "\n",
            "Epoch 00024: val_loss did not improve from 0.00222\n",
            "\n",
            "Epoch 00024: ReduceLROnPlateau reducing learning rate to 1.968299789822936e-09.\n",
            "Epoch 25/30\n",
            "500/500 [==============================] - 310s 620ms/step - loss: 0.0781 - accuracy: 0.9716 - val_loss: 0.0492 - val_accuracy: 0.9336\n",
            "\n",
            "Epoch 00025: val_loss did not improve from 0.00222\n",
            "Epoch 26/30\n",
            "500/500 [==============================] - 309s 618ms/step - loss: 0.0733 - accuracy: 0.9737 - val_loss: 0.0297 - val_accuracy: 0.9360\n",
            "\n",
            "Epoch 00026: val_loss did not improve from 0.00222\n",
            "\n",
            "Epoch 00026: ReduceLROnPlateau reducing learning rate to 5.904899236242044e-10.\n",
            "Epoch 27/30\n",
            "500/500 [==============================] - 309s 619ms/step - loss: 0.0775 - accuracy: 0.9701 - val_loss: 0.1638 - val_accuracy: 0.9327\n",
            "\n",
            "Epoch 00027: val_loss did not improve from 0.00222\n",
            "Epoch 28/30\n",
            "500/500 [==============================] - 310s 619ms/step - loss: 0.0731 - accuracy: 0.9719 - val_loss: 0.2344 - val_accuracy: 0.9360\n",
            "\n",
            "Epoch 00028: val_loss did not improve from 0.00222\n",
            "\n",
            "Epoch 00028: ReduceLROnPlateau reducing learning rate to 1.771469804179304e-10.\n",
            "Epoch 29/30\n",
            "500/500 [==============================] - 310s 619ms/step - loss: 0.0716 - accuracy: 0.9750 - val_loss: 0.4460 - val_accuracy: 0.9330\n",
            "\n",
            "Epoch 00029: val_loss did not improve from 0.00222\n",
            "Epoch 30/30\n",
            "500/500 [==============================] - 308s 619ms/step - loss: 0.0769 - accuracy: 0.9748 - val_loss: 0.1173 - val_accuracy: 0.9366\n",
            "\n",
            "Epoch 00030: val_loss did not improve from 0.00222\n",
            "\n",
            "Epoch 00030: ReduceLROnPlateau reducing learning rate to 5.314409329271186e-11.\n"
          ],
          "name": "stdout"
        }
      ]
    },
    {
      "cell_type": "code",
      "metadata": {
        "id": "ftqK6QoyOaER",
        "colab_type": "code",
        "colab": {}
      },
      "source": [
        "#----Custom function to visualize the training of the model------#\n",
        "def show_final_history(history):\n",
        "    fig, ax = plt.subplots(1, 2, figsize=(15,5))\n",
        "    ax[0].set_title('loss')\n",
        "    ax[0].plot(history.epoch, history.history[\"loss\"], label=\"Train loss\")\n",
        "    ax[0].plot(history.epoch, history.history[\"val_loss\"], label=\"Validation loss\")\n",
        "    ax[1].set_title('acc')\n",
        "    ax[1].plot(history.epoch, history.history[\"accuracy\"], label=\"Train acc\")\n",
        "    ax[1].plot(history.epoch, history.history[\"val_accuracy\"], label=\"Validation acc\")\n",
        "    ax[0].legend()\n",
        "    ax[1].legend()"
      ],
      "execution_count": null,
      "outputs": []
    },
    {
      "cell_type": "code",
      "metadata": {
        "id": "oBaO6nOW-WBr",
        "colab_type": "code",
        "colab": {
          "base_uri": "https://localhost:8080/",
          "height": 353
        },
        "outputId": "529f6836-ac10-48a7-8bce-1373cf0f23cf"
      },
      "source": [
        "show_final_history(history)\n",
        "print(\"Validation Accuracy: \" + str(history.history['val_accuracy'][-1:]))"
      ],
      "execution_count": null,
      "outputs": [
        {
          "output_type": "stream",
          "text": [
            "Validation Accuracy: [0.9365558624267578]\n"
          ],
          "name": "stdout"
        },
        {
          "output_type": "display_data",
          "data": {
            "image/png": "[encoded data removed]",
            "text/plain": [
              "<Figure size 1080x360 with 2 Axes>"
            ]
          },
          "metadata": {
            "tags": [],
            "needs_background": "light"
          }
        }
      ]
    },
    {
      "cell_type": "code",
      "metadata": {
        "id": "75Bi766V-uuC",
        "colab_type": "code",
        "colab": {
          "base_uri": "https://localhost:8080/",
          "height": 526
        },
        "outputId": "4d5ee901-c4f8-4d39-edea-21bbc20d2331"
      },
      "source": [
        "roc_validation_generator = ImageDataGenerator(rescale=1./255).flow_from_directory(val_path,\n",
        "                                                                                  target_size=(224,224),\n",
        "                                                                                  batch_size=10,\n",
        "                                                                                  class_mode='binary',\n",
        "                                                                                  shuffle=False)\n",
        "predictions = model.predict_generator(roc_validation_generator, steps=len(roc_validation_generator), verbose=1)\n",
        "false_positive_rate, true_positive_rate, threshold = roc_curve(roc_validation_generator.classes, predictions)\n",
        "area_under_curve = auc(false_positive_rate, true_positive_rate)\n",
        "\n",
        "plt.plot([0, 1], [0, 1], 'k--')\n",
        "plt.plot(false_positive_rate, true_positive_rate, label='AUC = {:.3f}'.format(area_under_curve))\n",
        "plt.xlabel('False positive rate')\n",
        "plt.ylabel('True positive rate')\n",
        "plt.title('ROC curve')\n",
        "plt.legend(loc='best')\n",
        "plt.savefig(ROC_PLOT_FILE, bbox_inches='tight')\n",
        "plt.show()"
      ],
      "execution_count": null,
      "outputs": [
        {
          "output_type": "stream",
          "text": [
            "Found 1053 images belonging to 2 classes.\n",
            "106/106 [==============================] - 21s 202ms/step\n"
          ],
          "name": "stdout"
        },
        {
          "output_type": "error",
          "ename": "NameError",
          "evalue": "ignored",
          "traceback": [
            "\u001b[0;31m---------------------------------------------------------------------------\u001b[0m",
            "\u001b[0;31mNameError\u001b[0m                                 Traceback (most recent call last)",
            "\u001b[0;32m<ipython-input-12-713d88c7a047>\u001b[0m in \u001b[0;36m<module>\u001b[0;34m()\u001b[0m\n\u001b[1;32m     14\u001b[0m \u001b[0mplt\u001b[0m\u001b[0;34m.\u001b[0m\u001b[0mtitle\u001b[0m\u001b[0;34m(\u001b[0m\u001b[0;34m'ROC curve'\u001b[0m\u001b[0;34m)\u001b[0m\u001b[0;34m\u001b[0m\u001b[0;34m\u001b[0m\u001b[0m\n\u001b[1;32m     15\u001b[0m \u001b[0mplt\u001b[0m\u001b[0;34m.\u001b[0m\u001b[0mlegend\u001b[0m\u001b[0;34m(\u001b[0m\u001b[0mloc\u001b[0m\u001b[0;34m=\u001b[0m\u001b[0;34m'best'\u001b[0m\u001b[0;34m)\u001b[0m\u001b[0;34m\u001b[0m\u001b[0;34m\u001b[0m\u001b[0m\n\u001b[0;32m---> 16\u001b[0;31m \u001b[0mplt\u001b[0m\u001b[0;34m.\u001b[0m\u001b[0msavefig\u001b[0m\u001b[0;34m(\u001b[0m\u001b[0mROC_PLOT_FILE\u001b[0m\u001b[0;34m,\u001b[0m \u001b[0mbbox_inches\u001b[0m\u001b[0;34m=\u001b[0m\u001b[0;34m'tight'\u001b[0m\u001b[0;34m)\u001b[0m\u001b[0;34m\u001b[0m\u001b[0;34m\u001b[0m\u001b[0m\n\u001b[0m\u001b[1;32m     17\u001b[0m \u001b[0mplt\u001b[0m\u001b[0;34m.\u001b[0m\u001b[0mshow\u001b[0m\u001b[0;34m(\u001b[0m\u001b[0;34m)\u001b[0m\u001b[0;34m\u001b[0m\u001b[0;34m\u001b[0m\u001b[0m\n",
            "\u001b[0;31mNameError\u001b[0m: name 'ROC_PLOT_FILE' is not defined"
          ]
        },
        {
          "output_type": "display_data",
          "data": {
            "image/png": "[encoded data removed]",
            "text/plain": [
              "<Figure size 432x288 with 1 Axes>"
            ]
          },
          "metadata": {
            "tags": [],
            "needs_background": "light"
          }
        }
      ]
    },
    {
      "cell_type": "code",
      "metadata": {
        "id": "o89CPXO0-1x5",
        "colab_type": "code",
        "colab": {}
      },
      "source": [
        ""
      ],
      "execution_count": null,
      "outputs": []
    }
  ]
}
